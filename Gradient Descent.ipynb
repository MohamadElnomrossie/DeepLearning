{
 "cells": [
  {
   "cell_type": "code",
   "execution_count": 1,
   "metadata": {},
   "outputs": [],
   "source": [
    "import numpy as np\n",
    "import matplotlib.pyplot as plt\n",
    "%matplotlib inline"
   ]
  },
  {
   "cell_type": "code",
   "execution_count": 263,
   "metadata": {},
   "outputs": [],
   "source": [
    "X = 2 * np.random.rand(10000,1)"
   ]
  },
  {
   "cell_type": "code",
   "execution_count": 264,
   "metadata": {},
   "outputs": [],
   "source": [
    "y = 4 +3 * X+np.random.randn(10000,1)"
   ]
  },
  {
   "cell_type": "code",
   "execution_count": 265,
   "metadata": {},
   "outputs": [],
   "source": [
    "X_b=np.c_[np.ones(len(X)),X]"
   ]
  },
  {
   "cell_type": "code",
   "execution_count": 266,
   "metadata": {},
   "outputs": [
    {
     "data": {
      "text/plain": [
       "<matplotlib.collections.PathCollection at 0x186c5b00640>"
      ]
     },
     "execution_count": 266,
     "metadata": {},
     "output_type": "execute_result"
    },
    {
     "data": {
      "image/png": "[encoded data removed]",
      "text/plain": [
       "<Figure size 432x288 with 1 Axes>"
      ]
     },
     "metadata": {
      "needs_background": "light"
     },
     "output_type": "display_data"
    }
   ],
   "source": [
    "plt.scatter(X,y)"
   ]
  },
  {
   "cell_type": "code",
   "execution_count": 247,
   "metadata": {},
   "outputs": [],
   "source": [
    "#initializing theta\n",
    "theta=np.random.randn(2,1)"
   ]
  },
  {
   "cell_type": "code",
   "execution_count": 248,
   "metadata": {},
   "outputs": [],
   "source": [
    "def cost(theta,feature,y):\n",
    "    '''\n",
    "    theta: weights, they are randomly initialized\n",
    "    X: features\n",
    "    y: target \n",
    "    '''\n",
    "    m=len(y)\n",
    "    predictions = feature.dot(theta)\n",
    "    cost=.5*m*(np.sum(np.square(predictions-y)))\n",
    "    return cost"
   ]
  },
  {
   "cell_type": "code",
   "execution_count": null,
   "metadata": {},
   "outputs": [],
   "source": []
  },
  {
   "cell_type": "code",
   "execution_count": 249,
   "metadata": {},
   "outputs": [],
   "source": [
    "def gradient_descent(X,y,theta,learning_rate,iterations):\n",
    "    m=y.shape[0]\n",
    "    cost_history = np.zeros(iterations)\n",
    "    theta_history = np.zeros((iterations,2))\n",
    "    for epoch in range(iterations):\n",
    "        y_hat=X.dot(theta)\n",
    "        theta=theta-(1/m)*learning_rate*(X.T.dot((y_hat-y)))\n",
    "        theta_history[epoch,:] =theta.T\n",
    "        cost_history[epoch]  = cost(theta,X,y)\n",
    "    return theta,cost_history,theta_history"
   ]
  },
  {
   "cell_type": "code",
   "execution_count": 250,
   "metadata": {},
   "outputs": [
    {
     "data": {
      "text/plain": [
       "(array([[4.0181811 ],\n",
       "        [2.98991419]]),\n",
       " array([23383044.47034204, 22423163.52544611, 21503637.76105399, ...,\n",
       "          502010.96911042,   502010.6421156 ,   502010.31615564]),\n",
       " array([[0.3662868 , 0.02077226],\n",
       "        [0.43174089, 0.09437687],\n",
       "        [0.49582421, 0.16639991],\n",
       "        ...,\n",
       "        [4.01809463, 2.98998898],\n",
       "        [4.0181379 , 2.98995155],\n",
       "        [4.0181811 , 2.98991419]]))"
      ]
     },
     "execution_count": 250,
     "metadata": {},
     "output_type": "execute_result"
    }
   ],
   "source": [
    "gradient_descent(X_b,y,theta,lr,n_iter)"
   ]
  },
  {
   "cell_type": "code",
   "execution_count": 251,
   "metadata": {},
   "outputs": [
    {
     "data": {
      "text/plain": [
       "array([[ 0.29943221],\n",
       "       [-0.05444828]])"
      ]
     },
     "execution_count": 251,
     "metadata": {},
     "output_type": "execute_result"
    }
   ],
   "source": [
    "theta"
   ]
  },
  {
   "cell_type": "code",
   "execution_count": 252,
   "metadata": {},
   "outputs": [
    {
     "name": "stdout",
     "output_type": "stream",
     "text": [
      "Wall time: 59.5 ms\n"
     ]
    }
   ],
   "source": [
    "%%time\n",
    "lr =0.01\n",
    "n_iter = 2000\n",
    "\n",
    "theta = np.random.randn(2,1)\n",
    "\n",
    "X_b = np.c_[np.ones((len(X),1)),X]\n",
    "\n",
    "theta,cost_history,theta_history = gradient_descent(X_b,y,theta,.01,n_iter)\n",
    "\n",
    "\n"
   ]
  },
  {
   "cell_type": "code",
   "execution_count": 253,
   "metadata": {},
   "outputs": [
    {
     "data": {
      "image/png": "[encoded data removed]",
      "text/plain": [
       "<Figure size 432x432 with 1 Axes>"
      ]
     },
     "metadata": {
      "needs_background": "light"
     },
     "output_type": "display_data"
    }
   ],
   "source": [
    "fig,ax = plt.subplots(figsize=(6,6))\n",
    "\n",
    "ax.set_ylabel('J(Theta)')\n",
    "ax.set_xlabel('Iterations')\n",
    "_=ax.plot(range(n_iter),cost_history,'b.')"
   ]
  },
  {
   "cell_type": "code",
   "execution_count": 254,
   "metadata": {},
   "outputs": [],
   "source": [
    "def plot_GD(n_iter,lr,ax,ax1=None):\n",
    "    \"\"\"\n",
    "    n_iter = no of iterations\n",
    "    lr = Learning Rate\n",
    "    ax = Axis to plot the Gradient Descent\n",
    "    ax1 = Axis to plot cost_history vs Iterations plot\n",
    "\n",
    "    \"\"\"\n",
    "    ax.plot(X,y,'b.')\n",
    "    theta = np.random.randn(2,1)\n",
    "\n",
    "    tr =0.1\n",
    "    cost_history = np.zeros(n_iter)\n",
    "    for i in range(n_iter):\n",
    "        pred_prev = X_b.dot(theta)\n",
    "        theta,h,_ = gradient_descent(X_b,y,theta,lr,1)\n",
    "        pred = X_b.dot(theta)\n",
    "\n",
    "        cost_history[i] = h[0]\n",
    "\n",
    "        if ((i % 25 == 0) ):\n",
    "            ax.plot(X,pred,'r-',alpha=tr)\n",
    "            if tr < 0.8:\n",
    "                tr = tr+0.2\n",
    "    if not ax1== None:\n",
    "        _ = ax1.plot(range(n_iter),cost_history,'b.')"
   ]
  },
  {
   "cell_type": "code",
   "execution_count": 255,
   "metadata": {},
   "outputs": [
    {
     "data": {
      "image/png": "[encoded data removed]",
      "text/plain": [
       "<Figure size 1008x720 with 1 Axes>"
      ]
     },
     "metadata": {
      "needs_background": "light"
     },
     "output_type": "display_data"
    }
   ],
   "source": [
    "_,ax = plt.subplots(figsize=(14,10))\n",
    "plot_GD(10000,.1,ax)"
   ]
  },
  {
   "cell_type": "markdown",
   "metadata": {},
   "source": [
    "# Stochastic Gradiend Descent"
   ]
  },
  {
   "cell_type": "code",
   "execution_count": 256,
   "metadata": {},
   "outputs": [],
   "source": [
    "def stochastic_gradient_descent(theta, X,y,iterations:int, learning_rate:float):\n",
    "    m=y.shape[0]\n",
    "    cost_history=np.zeros(iterations)\n",
    "    for j in range(iterations):\n",
    "        epoch_cost=0\n",
    "        for i in range(m):\n",
    "            rand_index=np.random.randint(0,m)\n",
    "            X_i=X[rand_index,:].reshape(1,X.shape[1])\n",
    "            y_i=y[rand_index].reshape(1,1)\n",
    "            prediction=np.dot(X_i,theta)\n",
    "            theta=theta-(1/m)*learning_rate*(X_i.T.dot(prediction-y_i))\n",
    "            epoch_cost+=cost(theta,X_i,y_i)\n",
    "        cost_history[j]=epoch_cost\n",
    "    return theta,cost_history"
   ]
  },
  {
   "cell_type": "code",
   "execution_count": 271,
   "metadata": {},
   "outputs": [],
   "source": [
    "lr =0.01\n",
    "n_iter = 2000\n",
    "\n",
    "theta = np.random.randn(2,1)"
   ]
  },
  {
   "cell_type": "code",
   "execution_count": null,
   "metadata": {},
   "outputs": [],
   "source": [
    "%%time\n",
    "theta, hist=stochastic_gradient_descent(theta, X_b,y,1000, lr)"
   ]
  },
  {
   "cell_type": "code",
   "execution_count": 140,
   "metadata": {},
   "outputs": [
    {
     "data": {
      "text/plain": [
       "50"
      ]
     },
     "execution_count": 140,
     "metadata": {},
     "output_type": "execute_result"
    }
   ],
   "source": [
    "len(set(np.random.choice(np.arange(0,100),size=50,replace=False)))"
   ]
  },
  {
   "cell_type": "code",
   "execution_count": null,
   "metadata": {},
   "outputs": [],
   "source": [
    "fig,ax = plt.subplots(figsize=(6,6))\n",
    "ax.set_ylabel('J(Theta)')\n",
    "ax.set_xlabel('Iterations')\n",
    "_=ax.plot(range(1000),hist)"
   ]
  },
  {
   "cell_type": "markdown",
   "metadata": {},
   "source": [
    "# Minibatch gradient descent"
   ]
  },
  {
   "cell_type": "code",
   "execution_count": 203,
   "metadata": {},
   "outputs": [],
   "source": [
    "def mini_batch_gradient_descent(X,y,theta,learning_rate,iterations,batch_size):\n",
    "    m=y.shape[0]\n",
    "    cost_history=np.zeros(iterations)\n",
    "    batches=m/batch_size\n",
    "    for epoch in range(iterations):\n",
    "        epoch_cost=0\n",
    "        indices=np.random.permutation(m)\n",
    "        X=X[indices]\n",
    "        y=y[indices]\n",
    "        for i in range(0,m,batch_size):\n",
    "            x_i=X[i:i+batch_size]\n",
    "            y_i=y[i:i+batch_size]\n",
    "            x_i=np.c_[np.ones(x_i.shape[0]),x_i]\n",
    "            \n",
    "            y_i_hat=np.dot(x_i,theta)\n",
    "            theta=theta-(1/m)*learning_rate*(x_i.T.dot(y_i_hat-y_i))\n",
    "            \n",
    "            epoch_cost+=cost(theta,x_i,y_i)\n",
    "            \n",
    "        cost_history[epoch]=epoch_cost\n",
    "    return theta,cost_history"
   ]
  },
  {
   "cell_type": "code",
   "execution_count": 267,
   "metadata": {},
   "outputs": [
    {
     "name": "stdout",
     "output_type": "stream",
     "text": [
      "Wall time: 27.1 s\n"
     ]
    }
   ],
   "source": [
    "%%time\n",
    "theta,mini=mini_batch_gradient_descent(X,y,theta,.01,1000,20)"
   ]
  },
  {
   "cell_type": "code",
   "execution_count": 268,
   "metadata": {},
   "outputs": [
    {
     "data": {
      "image/png": "[encoded data removed]",
      "text/plain": [
       "<Figure size 432x432 with 1 Axes>"
      ]
     },
     "metadata": {
      "needs_background": "light"
     },
     "output_type": "display_data"
    }
   ],
   "source": [
    "fig,ax = plt.subplots(figsize=(6,6))\n",
    "ax.set_ylabel('J(Theta)')\n",
    "ax.set_xlabel('Iterations')\n",
    "_=ax.plot(range(1000),mini)"
   ]
  },
  {
   "cell_type": "code",
   "execution_count": 181,
   "metadata": {},
   "outputs": [
    {
     "data": {
      "text/plain": [
       "array([32809.67481477, 31429.51287281, 30109.12063559, 28847.26231779,\n",
       "       27642.23854715, 26488.11937631, 25385.15018086, 24330.92488556,\n",
       "       23321.88912125, 22358.48475825, 21436.06872349, 20552.94672951,\n",
       "       19710.23916432, 18903.15979304, 18133.13898945, 17396.12443998,\n",
       "       16691.39322741, 16017.12851695, 15373.22167275, 14756.52586137,\n",
       "       14166.939252  , 13603.9832749 , 13065.12360792, 12549.28619779,\n",
       "       12057.77165273, 11587.17545828, 11135.20936046, 10705.29655406,\n",
       "       10293.33749743,  9899.24816431,  9522.85670653,  9162.59175669,\n",
       "        8818.66117158,  8489.48662367,  8173.70102326,  7873.42084986,\n",
       "        7584.75407094,  7310.32470349,  7046.9933508 ,  6795.35899555,\n",
       "        6554.60042821,  6324.72277795,  6104.57645642,  5894.03255456,\n",
       "        5692.34687994,  5500.30339293,  5315.3818884 ,  5140.08834513,\n",
       "        4971.67666425,  4810.45852806,  4656.95140658,  4509.5205309 ,\n",
       "        4369.14874961,  4234.85341129,  4105.93491226,  3982.82629121,\n",
       "        3864.94599781,  3752.57574487,  3645.00525258,  3541.93224307,\n",
       "        3443.70290099,  3349.60082204,  3259.70385747,  3173.47448803,\n",
       "        3091.07772594,  3012.0612994 ,  2937.08141145,  2865.19438717,\n",
       "        2796.38250198,  2730.4567796 ,  2667.30809886,  2607.0557149 ,\n",
       "        2549.49124133,  2494.46861213,  2441.4833239 ,  2391.22107141,\n",
       "        2342.96642089,  2296.9724203 ,  2252.6099053 ,  2210.57551871,\n",
       "        2170.33416752,  2131.6233532 ,  2094.74899139,  2059.13530577,\n",
       "        2025.64149146,  1992.7700242 ,  1961.89303333,  1932.74528832,\n",
       "        1904.40584113,  1877.29692132,  1851.55974694,  1826.58860421,\n",
       "        1803.17980497,  1780.03183559,  1758.47818323,  1737.60685792,\n",
       "        1718.0287641 ,  1699.14029927,  1681.01375958,  1663.63858311,\n",
       "        1646.84868941,  1630.79311663,  1615.38931624,  1601.00839522,\n",
       "        1586.98336191,  1573.75822227,  1560.73019359,  1548.59998311,\n",
       "        1536.80562083,  1525.35332807,  1514.68915109,  1504.78703648,\n",
       "        1494.93226703,  1485.39273942,  1476.21338398,  1467.71930529,\n",
       "        1459.62608571,  1451.54375153,  1444.04446357,  1436.49111537,\n",
       "        1429.80912949,  1423.07021087,  1416.42462989,  1410.26220035,\n",
       "        1404.75810607,  1398.86632235,  1393.65748886,  1388.25193527,\n",
       "        1383.72280065,  1378.67453967,  1374.14794158,  1369.90084013,\n",
       "        1365.55539787,  1361.78457264,  1357.78226219,  1354.10223387,\n",
       "        1350.72713014,  1347.42067613,  1344.03439036,  1340.73889616,\n",
       "        1338.01905521,  1335.08762878,  1332.07024764,  1329.57361007,\n",
       "        1327.09986226,  1324.37185814,  1322.22978711,  1320.13340222,\n",
       "        1317.86198262,  1315.84330349,  1313.76988184,  1311.75935641,\n",
       "        1310.13341453,  1308.07467477,  1306.43361434,  1304.89972639,\n",
       "        1302.91686098,  1301.62197042,  1300.31827338,  1298.51633869,\n",
       "        1297.19067019,  1295.89848594,  1294.85439602,  1293.39209531,\n",
       "        1292.3930579 ,  1291.25298691,  1290.03589334,  1288.98999464,\n",
       "        1288.25416663,  1287.16959721,  1285.71838659,  1284.82155052,\n",
       "        1284.32990032,  1283.46348851,  1282.58444794,  1281.59153741,\n",
       "        1280.86158986,  1280.17064855,  1279.52700192,  1278.65291659,\n",
       "        1277.92585739,  1277.29970459,  1276.6598268 ,  1276.13370842,\n",
       "        1274.87756023,  1274.73392676,  1274.28895936,  1273.86156965,\n",
       "        1272.96555174,  1272.61867369,  1272.01262075,  1271.42353059,\n",
       "        1270.91066585,  1270.25863619,  1269.91467515,  1269.72442288,\n",
       "        1269.29603984,  1268.75746532,  1268.2644739 ,  1267.78923306,\n",
       "        1267.44020179,  1267.17201719,  1266.47189912,  1266.40594343,\n",
       "        1265.92559513,  1265.53198265,  1265.16440033,  1264.76001264,\n",
       "        1264.46958485,  1264.08974988,  1263.66961375,  1263.29368027,\n",
       "        1262.9245309 ,  1262.58957611,  1262.32742569,  1262.12598944,\n",
       "        1261.83464842,  1261.50282471,  1261.07298296,  1260.84834715,\n",
       "        1260.275566  ,  1259.89562405,  1260.04372394,  1259.60847931,\n",
       "        1259.23262066,  1259.24892528,  1258.83059122,  1258.59744696,\n",
       "        1258.44596805,  1258.1511467 ,  1257.81184973,  1257.52175854,\n",
       "        1257.26666042,  1257.14603606,  1256.80823534,  1256.67243906,\n",
       "        1256.19786469,  1255.81626498,  1255.81745323,  1255.64226596,\n",
       "        1255.32298214,  1255.26889739,  1255.0408723 ,  1254.71135006,\n",
       "        1254.20331857,  1254.20882216,  1253.96119984,  1253.81790268,\n",
       "        1253.42875778,  1253.13572167,  1253.19685171,  1252.80654605,\n",
       "        1252.6792433 ,  1252.52389729,  1252.29120634,  1251.96155475,\n",
       "        1251.80839509,  1251.3067309 ,  1251.34023372,  1251.29898108,\n",
       "        1250.84996761,  1250.82809628,  1250.40644796,  1250.40506097,\n",
       "        1249.95299009,  1249.88950153,  1249.14859981,  1249.5013352 ,\n",
       "        1249.15697969,  1249.03427866,  1249.08831262,  1248.4118492 ,\n",
       "        1248.52029599,  1248.42542247,  1248.13840793,  1247.69420927,\n",
       "        1247.40726152,  1247.20869437,  1247.49917862,  1246.96969258,\n",
       "        1246.85150541,  1246.72206167,  1246.30651009,  1245.89015774,\n",
       "        1246.37247918,  1245.97244783,  1245.86270737,  1245.70814703,\n",
       "        1245.4432548 ,  1245.21303555,  1245.05348849,  1244.82663378,\n",
       "        1244.91124927,  1244.55780672,  1244.33152709,  1244.00698583,\n",
       "        1244.08592236,  1244.00116981,  1243.58213261,  1243.5250107 ,\n",
       "        1243.37334144,  1242.96970512,  1242.90088176,  1242.71299477,\n",
       "        1242.74257919,  1242.161774  ,  1242.18782458,  1242.22889921,\n",
       "        1241.80872308,  1241.67215413,  1241.51771679,  1241.46955207,\n",
       "        1240.84784976,  1241.1058573 ,  1240.68288382,  1240.86137072,\n",
       "        1240.64538172,  1240.47607283,  1239.88786868,  1240.10112695,\n",
       "        1239.86094135,  1239.49621199,  1239.49265474,  1239.380324  ,\n",
       "        1239.25483648,  1239.02065175,  1238.93586975,  1238.49836135,\n",
       "        1238.67362016,  1238.35471919,  1238.34581695,  1237.85071042,\n",
       "        1238.08088362,  1237.60670407,  1237.72297548,  1237.55624907,\n",
       "        1236.99342488,  1236.84775994,  1236.99556435,  1236.93833481,\n",
       "        1236.66414012,  1236.55003067,  1236.47190976,  1235.75094013,\n",
       "        1236.05734087,  1235.81106333,  1235.75838198,  1235.62740346,\n",
       "        1235.39075725,  1235.05121363,  1235.24722201,  1234.69191071,\n",
       "        1234.40490103,  1234.6909294 ,  1234.65624309,  1234.49110879,\n",
       "        1234.17570522,  1234.02557475,  1233.98529068,  1233.58854842,\n",
       "        1233.59231697,  1233.4640972 ,  1233.1359273 ,  1232.96689941,\n",
       "        1232.80570564,  1232.89341072,  1232.4244611 ,  1232.5845044 ,\n",
       "        1232.4233851 ,  1232.23927023,  1231.97452134,  1231.8121137 ,\n",
       "        1231.67433341,  1231.80636454,  1231.59380503,  1231.55108303,\n",
       "        1231.18939335,  1231.08825673,  1230.86809853,  1230.8356716 ,\n",
       "        1230.46464278,  1230.62013561,  1230.1701594 ,  1230.13145381,\n",
       "        1229.9588737 ,  1229.76755765,  1229.78293441,  1229.81284706,\n",
       "        1229.28426327,  1229.48627892,  1228.87654863,  1228.8839096 ,\n",
       "        1229.20340109,  1228.94863228,  1228.63725562,  1228.21276712,\n",
       "        1228.53583811,  1228.24425731,  1228.21250264,  1228.08899564,\n",
       "        1228.07465811,  1228.00650474,  1227.62556831,  1227.50847345,\n",
       "        1226.95008219,  1227.33330709,  1226.97616101,  1227.21756794,\n",
       "        1226.98182537,  1226.71250011,  1226.63406256,  1226.551952  ,\n",
       "        1226.36382785,  1226.38822905,  1226.25979816,  1226.05811262,\n",
       "        1226.02886443,  1225.57674623,  1225.68561969,  1225.57023055,\n",
       "        1225.14831534,  1225.34332206,  1225.2757984 ,  1224.57787043,\n",
       "        1224.94536254,  1224.64703541,  1224.38669782,  1224.3565508 ,\n",
       "        1224.34378952,  1224.37916995,  1224.16631212,  1224.01068004,\n",
       "        1223.82504838,  1223.78426614,  1223.807991  ,  1223.29907815,\n",
       "        1223.3501334 ,  1223.43142828,  1223.17055696,  1223.21168672,\n",
       "        1222.48431908,  1222.55134845,  1222.79115779,  1222.72774935,\n",
       "        1222.62647688,  1222.35085377,  1222.37521623,  1222.22283537,\n",
       "        1222.13366553,  1221.87137774,  1221.6051353 ,  1221.69397037,\n",
       "        1221.37300436,  1221.36276165,  1221.28689197,  1221.18534795,\n",
       "        1221.18858709,  1221.02202976,  1220.77515187,  1220.74812908,\n",
       "        1220.72570531,  1220.62008449,  1220.30210657,  1220.38656335,\n",
       "        1220.28056046,  1220.2014219 ,  1219.84017073,  1219.69616347,\n",
       "        1219.74420504,  1219.01439049,  1219.43526594,  1219.52653994,\n",
       "        1219.32392828,  1219.37275326,  1219.20344874,  1218.77875703,\n",
       "        1218.9048667 ,  1218.70455653,  1218.70974177,  1218.75517042,\n",
       "        1218.6458344 ,  1218.31957148,  1218.23554407,  1217.87461303,\n",
       "        1217.7680235 ,  1217.7191933 ,  1217.77402416,  1217.6887962 ,\n",
       "        1217.76267861,  1217.61830918,  1217.50480728,  1217.38408943,\n",
       "        1217.35037041,  1217.00122838,  1216.91820203,  1216.94492271,\n",
       "        1216.72896259,  1216.51986123,  1216.77084398,  1216.50954865,\n",
       "        1216.45870091,  1216.25182525,  1216.33239917,  1216.18708727,\n",
       "        1216.11656403,  1215.95912421,  1215.82678841,  1215.78415985,\n",
       "        1215.57449647,  1215.54134526,  1215.54404464,  1215.33089992,\n",
       "        1215.04956823,  1215.14911548,  1214.36639403,  1215.06666573,\n",
       "        1214.99219663,  1214.78169735,  1214.31305239,  1214.44362702,\n",
       "        1214.35170942,  1214.43220193,  1213.98942114,  1214.21135869,\n",
       "        1214.15496025,  1213.77026463,  1213.8822789 ,  1213.76568682,\n",
       "        1213.78549249,  1213.61604339,  1213.57046352,  1212.96546558,\n",
       "        1213.02198273,  1213.07082013,  1213.24765585,  1212.88521126,\n",
       "        1213.07532586,  1212.93342786,  1212.63806357,  1212.6591238 ,\n",
       "        1212.56490032,  1212.39304598,  1212.09130328,  1212.12542148,\n",
       "        1212.36865737,  1212.07269751,  1212.06437512,  1212.04749577,\n",
       "        1211.78662406,  1211.6037238 ,  1211.74414003,  1211.61621132,\n",
       "        1211.51462163,  1211.08014795,  1211.42266752,  1211.2326924 ,\n",
       "        1211.30368264,  1210.75099313,  1211.08239905,  1210.963173  ,\n",
       "        1211.00445966,  1210.75793517,  1210.57180269,  1210.70360692,\n",
       "        1210.4743691 ,  1210.62013573,  1210.00770956,  1210.23702905,\n",
       "        1210.2453942 ,  1210.09787207,  1210.04999431,  1210.02563352,\n",
       "        1209.98302017,  1209.89501349,  1209.57669544,  1209.38812055,\n",
       "        1209.66836916,  1209.23367839,  1209.53733989,  1209.36448354,\n",
       "        1208.97246401,  1209.22047233,  1208.87412301,  1208.65988048,\n",
       "        1208.69799308,  1208.84368556,  1208.5131057 ,  1208.60061402,\n",
       "        1208.52257752,  1208.30716603,  1208.43308007,  1207.99822967,\n",
       "        1208.12518709,  1208.25379434,  1208.11684306,  1208.10750035,\n",
       "        1208.03612939,  1207.67976677,  1207.73683712,  1207.5247972 ,\n",
       "        1207.66070614,  1207.60835592,  1207.3606002 ,  1207.49204798,\n",
       "        1207.32821003,  1207.01637715,  1207.09942341,  1207.116774  ,\n",
       "        1206.63884393,  1207.03066217,  1206.8939692 ,  1206.93049754,\n",
       "        1206.42960338,  1206.69029136,  1206.37034978,  1206.62456576,\n",
       "        1206.38371124,  1206.52855843,  1206.33327129,  1206.07750905,\n",
       "        1206.21082733,  1205.94535587,  1206.00676245,  1205.68949254,\n",
       "        1205.85733507,  1205.89075452,  1205.51792224,  1205.70187584,\n",
       "        1205.58749126,  1205.36104808,  1205.28657936,  1205.22100533,\n",
       "        1205.40034136,  1205.25217814,  1205.056041  ,  1205.02111436,\n",
       "        1205.18636802,  1204.91883559,  1204.85356238,  1204.51028721,\n",
       "        1204.82296592,  1204.7898802 ,  1204.7764526 ,  1204.54696689,\n",
       "        1204.56789492,  1203.53344113,  1204.25537802,  1204.29404194,\n",
       "        1204.24198469,  1204.20888366,  1204.17693945,  1204.10058733,\n",
       "        1204.06209492,  1204.03121797,  1203.71568373,  1203.91189185,\n",
       "        1203.59337507,  1203.71030916,  1203.52746817,  1203.58070425,\n",
       "        1203.49815981,  1203.3752944 ,  1203.12818226,  1203.20740329,\n",
       "        1203.12241435,  1203.03527322,  1202.99880838,  1202.67813844,\n",
       "        1202.88754248,  1202.96997435,  1202.56114276,  1202.64073237,\n",
       "        1202.50921076,  1202.42429362,  1202.49114003,  1202.35334778,\n",
       "        1202.18304003,  1202.48399305,  1202.335614  ,  1202.34732107,\n",
       "        1202.00789905,  1201.99422747,  1202.11576963,  1201.79461581,\n",
       "        1201.94469116,  1201.66234511,  1201.78783342,  1201.88668606,\n",
       "        1201.52626876,  1201.77619257,  1201.32811984,  1201.30229643,\n",
       "        1201.5599474 ,  1201.24033879,  1201.38023923,  1200.98205096,\n",
       "        1200.98956138,  1201.24018182,  1201.26487958,  1201.1900465 ,\n",
       "        1200.78339975,  1200.77773264,  1200.95680583,  1200.83013091,\n",
       "        1200.55132091,  1200.72278614,  1200.45771469,  1200.6133092 ,\n",
       "        1200.46326983,  1200.29225223,  1200.53814332,  1200.30888208,\n",
       "        1200.30679751,  1200.13964281,  1200.23994545,  1200.18860925,\n",
       "        1200.18084258,  1199.96552504,  1199.99355514,  1199.72116007,\n",
       "        1199.80047262,  1199.89354862,  1199.7572282 ,  1199.65924391,\n",
       "        1199.65577241,  1199.72394967,  1199.56765113,  1199.49444269,\n",
       "        1199.22680664,  1199.27603552,  1199.33079958,  1199.2508956 ,\n",
       "        1199.14434815,  1199.14596509,  1199.03425704,  1198.96666694,\n",
       "        1198.88914671,  1198.92613537,  1198.96157033,  1198.77629695,\n",
       "        1198.70522421,  1198.64686474,  1198.74574902,  1198.63440522,\n",
       "        1198.74533825,  1198.4771348 ,  1198.4995176 ,  1198.4133023 ,\n",
       "        1198.53494202,  1198.24513658,  1198.29156595,  1198.25143968,\n",
       "        1198.0825494 ,  1198.30484844,  1198.11704605,  1197.92169946,\n",
       "        1197.86778859,  1197.64569113,  1198.01371075,  1197.96877758,\n",
       "        1197.9155544 ,  1197.46128887,  1197.81171765,  1197.51107278,\n",
       "        1197.61952243,  1197.50993802,  1197.14313487,  1197.56964912,\n",
       "        1197.4047784 ,  1197.48873597,  1196.89439249,  1197.03777414,\n",
       "        1197.29468623,  1197.02679035,  1196.64473271,  1196.99016703,\n",
       "        1196.79574852,  1196.6012879 ,  1196.79220101,  1196.84887484,\n",
       "        1196.7691289 ,  1196.67558385,  1196.69160231,  1196.71918223,\n",
       "        1196.81996138,  1196.74697309,  1196.68369794,  1196.52035283,\n",
       "        1196.40705695,  1196.20678427,  1196.45684855,  1195.92459523,\n",
       "        1196.25391914,  1196.04583306,  1196.29680959,  1196.236006  ,\n",
       "        1195.86258295,  1196.17468107,  1195.59653016,  1196.00540818,\n",
       "        1195.79266496,  1195.89292446,  1195.9094105 ,  1195.83945677,\n",
       "        1195.75203298,  1195.54834123,  1195.66552678,  1195.63338033,\n",
       "        1195.3832351 ,  1195.65382457,  1195.50414587,  1195.50560446,\n",
       "        1195.50711402,  1195.46627457,  1195.19968664,  1195.38363982,\n",
       "        1195.41766329,  1195.09876242,  1194.99594737,  1195.15068854,\n",
       "        1195.0298259 ,  1195.00073945,  1195.15188791,  1194.68404363,\n",
       "        1194.9251058 ,  1194.94600149,  1194.88443544,  1194.60138873,\n",
       "        1194.89213776,  1194.3439013 ,  1194.59921359,  1194.04448735,\n",
       "        1194.67577026,  1194.3749015 ,  1194.32968226,  1194.48379057,\n",
       "        1194.54416122,  1194.43418053,  1194.44983212,  1194.23256355,\n",
       "        1194.35706839,  1194.17479971,  1193.84528299,  1193.89842225,\n",
       "        1194.04619656,  1194.26800097,  1193.95115279,  1193.59616531,\n",
       "        1194.0709715 ,  1193.54328235,  1193.81402957,  1193.87081126,\n",
       "        1193.88335069,  1193.83046311,  1193.52101575,  1193.58610246,\n",
       "        1193.60088077,  1193.67895147,  1193.21671295,  1193.51927729,\n",
       "        1193.64902088,  1193.52047124,  1193.2427487 ,  1193.4007208 ,\n",
       "        1193.42034196,  1193.37795958,  1193.43079034,  1193.38699477,\n",
       "        1193.11917044,  1193.11097489,  1192.95877931,  1193.03640494,\n",
       "        1193.08654834,  1193.03995521,  1192.90226934,  1192.82038438,\n",
       "        1192.97021871,  1192.83436112,  1192.68544345,  1192.93516547,\n",
       "        1192.77037102,  1192.55945574,  1192.85513796,  1192.65433875,\n",
       "        1192.62254467,  1192.72106708,  1192.53751522,  1192.52245762,\n",
       "        1192.58703602,  1192.54642976,  1192.20436451,  1192.51672715,\n",
       "        1192.47985101,  1192.25478911,  1192.22716532,  1192.24360507,\n",
       "        1192.23116504,  1192.19504454,  1191.8509228 ,  1192.21387267,\n",
       "        1192.02497808,  1192.12616701,  1192.01510643,  1192.13606593,\n",
       "        1191.72674218,  1192.08607718,  1192.0170346 ,  1192.00430259,\n",
       "        1191.90937999,  1191.84222984,  1191.66490343,  1191.68762844,\n",
       "        1191.71208373,  1191.33441461,  1191.77561449,  1191.60335077,\n",
       "        1191.66224612,  1191.65469298,  1191.64885209,  1191.18218415,\n",
       "        1191.32705844,  1191.29465153,  1191.44184982,  1191.2938274 ,\n",
       "        1191.41966853,  1191.21069967,  1191.11288194,  1191.40625502,\n",
       "        1190.87053773,  1190.98411251,  1191.22250656,  1191.1281189 ,\n",
       "        1191.07141069,  1190.83681321,  1191.02958992,  1191.04289376,\n",
       "        1190.91565015,  1191.0433929 ,  1190.72851307,  1190.84224754,\n",
       "        1190.69753694,  1190.78138534,  1190.86536115,  1190.76728216,\n",
       "        1190.80363749,  1190.4378447 ,  1190.57526869,  1190.54685655,\n",
       "        1190.68344348,  1190.61584958,  1189.86020923,  1190.39340701,\n",
       "        1190.24571614,  1190.43952529,  1190.56726878,  1190.36756995,\n",
       "        1190.40046672,  1190.36579392,  1190.20833977,  1190.29406027,\n",
       "        1190.33989464,  1190.35157865,  1190.1002441 ,  1190.10131649,\n",
       "        1190.26197207,  1190.1909547 ,  1190.21936452,  1190.24368626,\n",
       "        1190.06181022,  1189.92288041,  1190.04410378,  1190.12089967,\n",
       "        1190.00446181,  1190.0001581 ,  1189.96281199,  1189.58474494,\n",
       "        1189.72029374,  1189.81551404,  1189.90194104,  1189.77020221,\n",
       "        1189.8596399 ,  1189.66562981,  1189.85566956,  1189.61407281,\n",
       "        1189.34762187,  1189.42599583,  1189.64528554,  1189.49615835,\n",
       "        1189.55928752,  1189.53844084,  1189.24810187,  1189.46079022,\n",
       "        1189.28786924,  1189.29586641,  1188.6642022 ,  1189.28670162,\n",
       "        1189.37872821,  1189.36281914,  1189.12355749,  1189.23777697])"
      ]
     },
     "execution_count": 181,
     "metadata": {},
     "output_type": "execute_result"
    }
   ],
   "source": [
    "mini"
   ]
  },
  {
   "cell_type": "code",
   "execution_count": null,
   "metadata": {},
   "outputs": [],
   "source": []
  }
 ],
 "metadata": {
  "kernelspec": {
   "display_name": "Python 3",
   "language": "python",
   "name": "python3"
  },
  "language_info": {
   "codemirror_mode": {
    "name": "ipython",
    "version": 3
   },
   "file_extension": ".py",
   "mimetype": "text/x-python",
   "name": "python",
   "nbconvert_exporter": "python",
   "pygments_lexer": "ipython3",
   "version": "3.8.3"
  }
 },
 "nbformat": 4,
 "nbformat_minor": 4
}
