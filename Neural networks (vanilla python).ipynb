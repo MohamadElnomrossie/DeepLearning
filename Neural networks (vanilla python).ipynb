{
 "cells": [
  {
   "cell_type": "code",
   "execution_count": 11,
   "metadata": {},
   "outputs": [],
   "source": [
    "import numpy as np\n",
    "from sklearn.datasets import load_breast_cancer\n",
    "from sklearn.model_selection import train_test_split"
   ]
  },
  {
   "cell_type": "code",
   "execution_count": 12,
   "metadata": {},
   "outputs": [],
   "source": [
    "(X,y)=load_breast_cancer(return_X_y=True)"
   ]
  },
  {
   "cell_type": "code",
   "execution_count": 15,
   "metadata": {},
   "outputs": [],
   "source": [
    "X_train,X_test,y_train,y_test=train_test_split(X,y,random_state=2)"
   ]
  },
  {
   "cell_type": "code",
   "execution_count": 33,
   "metadata": {},
   "outputs": [],
   "source": [
    "def sigmoid(x):\n",
    "    return 1/(1+np.exp(-x))"
   ]
  },
  {
   "cell_type": "code",
   "execution_count": 126,
   "metadata": {},
   "outputs": [],
   "source": [
    "def forward(X,W,b):\n",
    "    a=X.dot(W)+b\n",
    "    return a"
   ]
  },
  {
   "cell_type": "code",
   "execution_count": 134,
   "metadata": {},
   "outputs": [
    {
     "name": "stdout",
     "output_type": "stream",
     "text": [
      "0.6338028169014085\n"
     ]
    }
   ],
   "source": [
    "errors=0\n",
    "for x in range(X_train.shape[0]):\n",
    "    if y_train[x]==sigmoid(forward(X_train[x].reshape(-1,30),W1,100000)):\n",
    "        errors+=1\n",
    "print (errors/X_train.shape[0])"
   ]
  },
  {
   "cell_type": "code",
   "execution_count": 135,
   "metadata": {},
   "outputs": [
    {
     "data": {
      "text/plain": [
       "(426, 30)"
      ]
     },
     "execution_count": 135,
     "metadata": {},
     "output_type": "execute_result"
    }
   ],
   "source": [
    "X_train.shape"
   ]
  },
  {
   "cell_type": "code",
   "execution_count": 129,
   "metadata": {},
   "outputs": [],
   "source": [
    "W1=np.random.rand(X_train.shape[1])"
   ]
  },
  {
   "cell_type": "code",
   "execution_count": 130,
   "metadata": {},
   "outputs": [],
   "source": [
    "b=np.random.randint(2)"
   ]
  },
  {
   "cell_type": "code",
   "execution_count": 137,
   "metadata": {},
   "outputs": [],
   "source": [
    "x=X**2"
   ]
  },
  {
   "cell_type": "code",
   "execution_count": 138,
   "metadata": {},
   "outputs": [
    {
     "data": {
      "text/plain": [
       "array([[3.2364010e+02, 1.0774440e+02, 1.5079840e+04, ..., 7.0437160e-02,\n",
       "        2.1169201e-01, 1.4137210e-02],\n",
       "       [4.2312490e+02, 3.1577290e+02, 1.7662410e+04, ..., 3.4596000e-02,\n",
       "        7.5625000e-02, 7.9245604e-03],\n",
       "       [3.8769610e+02, 4.5156250e+02, 1.6900000e+04, ..., 5.9049000e-02,\n",
       "        1.3053769e-01, 7.6702564e-03],\n",
       "       ...,\n",
       "       [2.7556000e+02, 7.8848640e+02, 1.1728890e+04, ..., 2.0107240e-02,\n",
       "        4.9195240e-02, 6.1152400e-03],\n",
       "       [4.2436000e+02, 8.6024890e+02, 1.9628010e+04, ..., 7.0225000e-02,\n",
       "        1.6703569e-01, 1.5376000e-02],\n",
       "       [6.0217600e+01, 6.0221160e+02, 2.2963264e+03, ..., 0.0000000e+00,\n",
       "        8.2426410e-02, 4.9547521e-03]])"
      ]
     },
     "execution_count": 138,
     "metadata": {},
     "output_type": "execute_result"
    }
   ],
   "source": [
    "np."
   ]
  },
  {
   "cell_type": "code",
   "execution_count": null,
   "metadata": {},
   "outputs": [],
   "source": []
  }
 ],
 "metadata": {
  "kernelspec": {
   "display_name": "Python 3",
   "language": "python",
   "name": "python3"
  },
  "language_info": {
   "codemirror_mode": {
    "name": "ipython",
    "version": 3
   },
   "file_extension": ".py",
   "mimetype": "text/x-python",
   "name": "python",
   "nbconvert_exporter": "python",
   "pygments_lexer": "ipython3",
   "version": "3.8.3"
  }
 },
 "nbformat": 4,
 "nbformat_minor": 4
}
